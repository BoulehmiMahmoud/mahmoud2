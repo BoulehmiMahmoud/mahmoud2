{
 "cells": [
  {
   "cell_type": "code",
   "execution_count": 1,
   "id": "5492b5c4",
   "metadata": {},
   "outputs": [
    {
     "name": "stdout",
     "output_type": "stream",
     "text": [
      "nomma\n",
      "prenombo\n",
      "boma\n"
     ]
    }
   ],
   "source": [
    "#1\n",
    "F=input(\"nom\")\n",
    "L=input(\"prenom\")\n",
    "N=print(L+F)"
   ]
  },
  {
   "cell_type": "code",
   "execution_count": 3,
   "id": "f163c3b0",
   "metadata": {},
   "outputs": [
    {
     "name": "stdout",
     "output_type": "stream",
     "text": [
      "input n5\n",
      "615\n"
     ]
    }
   ],
   "source": [
    "#2\n",
    "n=input(\"select n\")\n",
    "n=int(n)\n",
    "nn=11*n\n",
    "nnn=111*n\n",
    "print(n+nn+nnn)"
   ]
  },
  {
   "cell_type": "code",
   "execution_count": 5,
   "id": "94b95e2f",
   "metadata": {},
   "outputs": [
    {
     "name": "stdout",
     "output_type": "stream",
     "text": [
      "select n2\n",
      "nb pr\n"
     ]
    }
   ],
   "source": [
    "#3\n",
    "n=input(\"select n\")\n",
    "n=int(n)\n",
    "if n%2==0:\n",
    "    print(\"nb pr\")\n",
    "else:\n",
    "    print(\"nb impr\")"
   ]
  },
  {
   "cell_type": "code",
   "execution_count": 8,
   "id": "15a22c30",
   "metadata": {
    "scrolled": true
   },
   "outputs": [
    {
     "name": "stdout",
     "output_type": "stream",
     "text": [
      "2002\n",
      "2009\n",
      "2016\n",
      "2023\n",
      "2037\n",
      "2044\n",
      "2051\n",
      "2058\n",
      "2072\n",
      "2079\n",
      "2086\n",
      "2093\n",
      "2107\n",
      "2114\n",
      "2121\n",
      "2128\n",
      "2142\n",
      "2149\n",
      "2156\n",
      "2163\n",
      "2177\n",
      "2184\n",
      "2191\n",
      "2198\n",
      "2212\n",
      "2219\n",
      "2226\n",
      "2233\n",
      "2247\n",
      "2254\n",
      "2261\n",
      "2268\n",
      "2282\n",
      "2289\n",
      "2296\n",
      "2303\n",
      "2317\n",
      "2324\n",
      "2331\n",
      "2338\n",
      "2352\n",
      "2359\n",
      "2366\n",
      "2373\n",
      "2387\n",
      "2394\n",
      "2401\n",
      "2408\n",
      "2422\n",
      "2429\n",
      "2436\n",
      "2443\n",
      "2457\n",
      "2464\n",
      "2471\n",
      "2478\n",
      "2492\n",
      "2499\n",
      "2506\n",
      "2513\n",
      "2527\n",
      "2534\n",
      "2541\n",
      "2548\n",
      "2562\n",
      "2569\n",
      "2576\n",
      "2583\n",
      "2597\n",
      "2604\n",
      "2611\n",
      "2618\n",
      "2632\n",
      "2639\n",
      "2646\n",
      "2653\n",
      "2667\n",
      "2674\n",
      "2681\n",
      "2688\n",
      "2702\n",
      "2709\n",
      "2716\n",
      "2723\n",
      "2737\n",
      "2744\n",
      "2751\n",
      "2758\n",
      "2772\n",
      "2779\n",
      "2786\n",
      "2793\n",
      "2807\n",
      "2814\n",
      "2821\n",
      "2828\n",
      "2842\n",
      "2849\n",
      "2856\n",
      "2863\n",
      "2877\n",
      "2884\n",
      "2891\n",
      "2898\n",
      "2912\n",
      "2919\n",
      "2926\n",
      "2933\n",
      "2947\n",
      "2954\n",
      "2961\n",
      "2968\n",
      "2982\n",
      "2989\n",
      "2996\n",
      "3003\n",
      "3017\n",
      "3024\n",
      "3031\n",
      "3038\n",
      "3052\n",
      "3059\n",
      "3066\n",
      "3073\n",
      "3087\n",
      "3094\n",
      "3101\n",
      "3108\n",
      "3122\n",
      "3129\n",
      "3136\n",
      "3143\n",
      "3157\n",
      "3164\n",
      "3171\n",
      "3178\n",
      "3192\n",
      "3199\n"
     ]
    }
   ],
   "source": [
    "#4\n",
    "x = range(2000,3200)\n",
    "for n in x:\n",
    "    if n%7==0 and n%5!=0:\n",
    "        print(n)"
   ]
  },
  {
   "cell_type": "code",
   "execution_count": 5,
   "id": "7940e4cf",
   "metadata": {},
   "outputs": [
    {
     "name": "stdout",
     "output_type": "stream",
     "text": [
      "select a number4\n",
      "24\n"
     ]
    }
   ],
   "source": [
    "#5\n",
    "x=int(input(\"select a number\"))\n",
    "n=range(x,1,-1)\n",
    "s=1\n",
    "if x==1:\n",
    "    s=1\n",
    "else:\n",
    "    for i in n:\n",
    "        s=s*i\n",
    "print(s)"
   ]
  },
  {
   "cell_type": "code",
   "execution_count": 8,
   "id": "4425a418",
   "metadata": {},
   "outputs": [
    {
     "name": "stdout",
     "output_type": "stream",
     "text": [
      "wordhello team\n",
      "hlota\n"
     ]
    }
   ],
   "source": [
    "#6\n",
    "ch=str(input(\"word\"))\n",
    "y=len(ch)\n",
    "s=''\n",
    "for i in range(0,y,2):\n",
    "    s=s+ch[i]\n",
    "print(s)"
   ]
  },
  {
   "cell_type": "code",
   "execution_count": 11,
   "id": "79ed7494",
   "metadata": {},
   "outputs": [
    {
     "name": "stdout",
     "output_type": "stream",
     "text": [
      "price300\n",
      "210.0\n"
     ]
    }
   ],
   "source": [
    "#7\n",
    "x=int(input(\"price\"))\n",
    "p=1\n",
    "if x>=500:\n",
    "    p=p*(x*50)/100\n",
    "elif x<500 and x>=200:\n",
    "    p=p*(x*70)/100\n",
    "else:\n",
    "    p=p*(x*90)/100\n",
    "print(p)"
   ]
  },
  {
   "cell_type": "code",
   "execution_count": null,
   "id": "416362fc",
   "metadata": {},
   "outputs": [],
   "source": []
  }
 ],
 "metadata": {
  "kernelspec": {
   "display_name": "Python 3",
   "language": "python",
   "name": "python3"
  },
  "language_info": {
   "codemirror_mode": {
    "name": "ipython",
    "version": 3
   },
   "file_extension": ".py",
   "mimetype": "text/x-python",
   "name": "python",
   "nbconvert_exporter": "python",
   "pygments_lexer": "ipython3",
   "version": "3.8.8"
  }
 },
 "nbformat": 4,
 "nbformat_minor": 5
}
